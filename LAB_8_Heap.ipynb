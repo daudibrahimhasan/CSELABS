{
  "nbformat": 4,
  "nbformat_minor": 0,
  "metadata": {
    "colab": {
      "provenance": [],
      "authorship_tag": "ABX9TyMwpkTVt4atjy5FNb/UFmYU",
      "include_colab_link": true
    },
    "kernelspec": {
      "name": "python3",
      "display_name": "Python 3"
    },
    "language_info": {
      "name": "python"
    }
  },
  "cells": [
    {
      "cell_type": "markdown",
      "metadata": {
        "id": "view-in-github",
        "colab_type": "text"
      },
      "source": [
        "<a href=\"https://colab.research.google.com/github/daudibrahimhasan/CSELABS/blob/main/LAB_8_Heap.ipynb\" target=\"_parent\"><img src=\"https://colab.research.google.com/assets/colab-badge.svg\" alt=\"Open In Colab\"/></a>"
      ]
    },
    {
      "cell_type": "code",
      "execution_count": null,
      "metadata": {
        "id": "W-QRaifKLQwF"
      },
      "outputs": [],
      "source": [
        "class MinHeap:\n",
        "  def __init__(self, capacity):\n",
        "    self.__heap = [0] * capacity\n",
        "    self.__size = 0\n",
        "\n",
        "  def partent(self, i):\n",
        "    return (i - 1) // 2\n",
        "  def right(self, i):\n",
        "    return 2 * i + 2\n",
        "  def left(self, i):\n",
        "    return 2 * i + 1\n",
        "\n",
        "  def insert(self,k):\n",
        "    if self.__size >= len(self.__heap):\n",
        "      print(\"Heap is full\")\n",
        "      return\n",
        "    self.__heap[self.__size] = k\n",
        "    self.__size += 1\n",
        "    self.swim(self.__size - 1)\n",
        "\n",
        "    def swim(self,i):\n",
        "      while i>0 and self.__heap[self.parent(i)]> self.__heap[i]:\n",
        "        self.__heap[i], self.__heap[self.parent(i)] = self.__heap[self.parent(i)], self.__heap[i]\n",
        "        i = self.parent(i)"
      ]
    },
    {
      "cell_type": "code",
      "source": [
        "class MinHeap:\n",
        "    def __init__(self, capacity):\n",
        "        self.__heap = [0] * capacity  # Private array to store heap elements\n",
        "        self.__size = 0  # Private variable to track current size of heap\n",
        "\n",
        "    def parent(self, i):\n",
        "        return (i - 1) // 2\n",
        "\n",
        "    def left_child(self, i):\n",
        "        return 2 * i + 1\n",
        "\n",
        "    def right_child(self, i):\n",
        "        return 2 * i + 2\n",
        "\n",
        "    def swim(self, i):\n",
        "        while i > 0 and self.__heap[self.parent(i)] > self.__heap[i]:\n",
        "            self.__heap[i], self.__heap[self.parent(i)] = self.__heap[self.parent(i)], self.__heap[i]\n",
        "            i = self.parent(i)\n",
        "\n",
        "    def insert(self, key):\n",
        "        if self.__size >= len(self.__heap):\n",
        "            raise Exception(\"Heap is full\")\n",
        "        self.__heap[self.__size] = key\n",
        "        self.__size += 1\n",
        "        self.swim(self.__size - 1)\n",
        "\n",
        "    def sink(self, i):\n",
        "        while self.left_child(i) < self.__size:\n",
        "            smallest = self.left_child(i)\n",
        "            if self.right_child(i) < self.__size and self.__heap[self.right_child(i)] < self.__heap[smallest]:\n",
        "                smallest = self.right_child(i)\n",
        "            if self.__heap[i] <= self.__heap[smallest]:\n",
        "                break\n",
        "            self.__heap[i], self.__heap[smallest] = self.__heap[smallest], self.__heap[i]\n",
        "            i = smallest\n",
        "\n",
        "    def extractMin(self):\n",
        "        if self.__size == 0:\n",
        "            raise Exception(\"Heap is empty\")\n",
        "        min_val = self.__heap[0]\n",
        "        self.__heap[0] = self.__heap[self.__size - 1]\n",
        "        self.__size -= 1\n",
        "        self.sink(0)\n",
        "        return min_val\n",
        "\n",
        "    def sort(self):\n",
        "        original_size = self.__size\n",
        "        sorted_array = []\n",
        "        while self.__size > 0:\n",
        "            sorted_array.append(self.extractMin())\n",
        "        self.__size = original_size  # Restore original size\n",
        "        for i in range(len(sorted_array)):\n",
        "            self.__heap[i] = sorted_array[i]\n",
        "        return sorted_array\n",
        "\n",
        "class MaxHeap:\n",
        "    def __init__(self, capacity):\n",
        "        self.__heap = [0] * capacity  # Private array to store heap elements\n",
        "        self.__size = 0  # Private variable to track current size of heap\n",
        "\n",
        "    def parent(self, i):\n",
        "        return (i - 1) // 2\n",
        "\n",
        "    def left_child(self, i):\n",
        "        return 2 * i + 1\n",
        "\n",
        "    def right_child(self, i):\n",
        "        return 2 * i + 2\n",
        "\n",
        "    def swim(self, i):\n",
        "        while i > 0 and self.__heap[self.parent(i)] < self.__heap[i]:\n",
        "            self.__heap[i], self.__heap[self.parent(i)] = self.__heap[self.parent(i)], self.__heap[i]\n",
        "            i = self.parent(i)\n",
        "\n",
        "    def insert(self, key):\n",
        "        if self.__size >= len(self.__heap):\n",
        "            raise Exception(\"Heap is full\")\n",
        "        self.__heap[self.__size] = key\n",
        "        self.__size += 1\n",
        "        self.swim(self.__size - 1)\n",
        "\n",
        "    def sink(self, i):\n",
        "        while self.left_child(i) < self.__size:\n",
        "            largest = self.left_child(i)\n",
        "            if self.right_child(i) < self.__size and self.__heap[self.right_child(i)] > self.__heap[largest]:\n",
        "                largest = self.right_child(i)\n",
        "            if self.__heap[i] >= self.__heap[largest]:\n",
        "                break\n",
        "            self.__heap[i], self.__heap[largest] = self.__heap[largest], self.__heap[i]\n",
        "            i = largest\n",
        "\n",
        "    def extractMax(self):\n",
        "        if self.__size == 0:\n",
        "            raise Exception(\"Heap is empty\")\n",
        "        max_val = self.__heap[0]\n",
        "        self.__heap[0] = self.__heap[self.__size - 1]\n",
        "        self.__size -= 1\n",
        "        self.sink(0)\n",
        "        return max_val\n",
        "\n",
        "    def sort(self):\n",
        "        original_size = self.__size\n",
        "        sorted_array = []\n",
        "        while self.__size > 0:\n",
        "            sorted_array.append(self.extractMax())\n",
        "        self.__size = original_size  # Restore original size\n",
        "        for i in range(len(sorted_array)):\n",
        "            self.__heap[i] = sorted_array[i]\n",
        "        return sorted_array\n",
        "\n",
        "# Driver code to test MinHeap and MaxHeap\n",
        "if __name__ == \"__main__\":\n",
        "    # Test MinHeap\n",
        "    min_heap = MinHeap(10)\n",
        "    test_values = [4, 2, 8, 1, 5, 3]\n",
        "    for val in test_values:\n",
        "        min_heap.insert(val)\n",
        "\n",
        "    print(\"MinHeap sorted array:\", min_heap.sort())  # Expected: [1, 2, 3, 4, 5, 8]\n",
        "\n",
        "    # Test MaxHeap\n",
        "    max_heap = MaxHeap(10)\n",
        "    for val in test_values:\n",
        "        max_heap.insert(val)\n",
        "\n",
        "    print(\"MaxHeap sorted array:\", max_heap.sort())  # Expected: [8, 5, 4, 3, 2, 1]"
      ],
      "metadata": {
        "id": "6FudJAUpMsum",
        "colab": {
          "base_uri": "https://localhost:8080/"
        },
        "outputId": "08158e10-31f3-4d1e-8888-6eae518683f3"
      },
      "execution_count": null,
      "outputs": [
        {
          "output_type": "stream",
          "name": "stdout",
          "text": [
            "MinHeap sorted array: [1, 2, 3, 4, 5, 8]\n",
            "MaxHeap sorted array: [8, 5, 4, 3, 2, 1]\n"
          ]
        }
      ]
    },
    {
      "cell_type": "code",
      "source": [
        "def get_heap_array(self):\n",
        "    return self.__heap[:self.__size]  # Return used portion of heap"
      ],
      "metadata": {
        "id": "GQlInEtT_BPT"
      },
      "execution_count": null,
      "outputs": []
    },
    {
      "cell_type": "code",
      "source": [
        "def distribute_tasks(tasks, m):\n",
        "    # Step 1: Initialize a min-heap object with m length, all set to 0\n",
        "    heap = MinHeap(m)\n",
        "    for i in range(m):\n",
        "        heap.insert(0)\n",
        "\n",
        "    # Step 2: For each task, do the following\n",
        "    for task in tasks:\n",
        "        # Extract the smallest load from the heap\n",
        "        min_load = heap.extractMin()\n",
        "        # Add the task's processing time to this load\n",
        "        updated_load = min_load + task\n",
        "        # Reinsert the updated load into the heap\n",
        "        heap.insert(updated_load)\n",
        "\n",
        "    # Step 3: The final array representation for your heap is the answer\n",
        "    return heap.get_heap_array()"
      ],
      "metadata": {
        "id": "tLUm-6Cn9PSV"
      },
      "execution_count": null,
      "outputs": []
    },
    {
      "cell_type": "code",
      "source": [
        "def find_top_k(nums, k):\n",
        "    heap = MaxHeap(len(nums))\n",
        "    # Insert all numbers\n",
        "    for num in nums:\n",
        "        heap.insert(num)\n",
        "    # Extract top k elements\n",
        "    result = [0] * k  # Fixed-size array\n",
        "    for i in range(k):\n",
        "        result[i] = heap.extractMax()\n",
        "    return result\n",
        "\n",
        "# Example usage\n",
        "nums = [4, 10, 2, 8, 6, 7]\n",
        "k = 3\n",
        "result = find_top_k(nums, k)\n",
        "print(result)  # Expected output: [10, 8, 7]"
      ],
      "metadata": {
        "colab": {
          "base_uri": "https://localhost:8080/"
        },
        "id": "pmXGtoQl97g1",
        "outputId": "c3ff252c-fa8c-4018-9f64-c52c37aca2ab"
      },
      "execution_count": null,
      "outputs": [
        {
          "output_type": "stream",
          "name": "stdout",
          "text": [
            "[10, 8, 7]\n"
          ]
        }
      ]
    },
    {
      "cell_type": "code",
      "source": [
        "def distribute_tasks(tasks, m):\n",
        "    heap = MinHeap(m)\n",
        "    # Initialize heap with m zero-load machines\n",
        "    for _ in range(m):\n",
        "        heap.insert(0)\n",
        "\n",
        "    # Assign tasks one by one\n",
        "    for task in tasks:\n",
        "        min_load = heap.extractMin()\n",
        "        heap.insert(min_load + task)\n",
        "\n",
        "    # Get final machine loads\n",
        "    return heap.get_heap_array()\n"
      ],
      "metadata": {
        "id": "6bSlcQ4iAQFi"
      },
      "execution_count": null,
      "outputs": []
    },
    {
      "cell_type": "code",
      "source": [
        "class MinHeap:\n",
        "    def __init__(self, capacity):\n",
        "        self.__heap = [0] * capacity  # private array\n",
        "        self.__size = 0               # private size variable\n",
        "\n",
        "    def __parent(self, index): return (index - 1) // 2\n",
        "    def __left_child(self, index): return 2 * index + 1\n",
        "    def __right_child(self, index): return 2 * index + 2\n",
        "\n",
        "    def __swap(self, i, j):\n",
        "        self.__heap[i], self.__heap[j] = self.__heap[j], self.__heap[i]\n",
        "\n",
        "    def insert(self, value):\n",
        "        self.__heap[self.__size] = value\n",
        "        self.__size += 1\n",
        "        self.swim(self.__size - 1)\n",
        "\n",
        "    def swim(self, index):\n",
        "        while index > 0:\n",
        "            parent = self.__parent(index)\n",
        "            if self.__heap[index] < self.__heap[parent]:\n",
        "                self.__swap(index, parent)\n",
        "                index = parent\n",
        "            else:\n",
        "                break\n",
        "\n",
        "    def extractMin(self):\n",
        "        if self.__size == 0:\n",
        "            return None\n",
        "        min_val = self.__heap[0]\n",
        "        self.__size -= 1\n",
        "        self.__heap[0] = self.__heap[self.__size]\n",
        "        self.sink(0)\n",
        "        return min_val\n",
        "\n",
        "    def sink(self, index):\n",
        "        while True:\n",
        "            min_index = index\n",
        "            left, right = self.__left_child(index), self.__right_child(index)\n",
        "            if left < self.__size and self.__heap[left] < self.__heap[min_index]:\n",
        "                min_index = left\n",
        "            if right < self.__size and self.__heap[right] < self.__heap[min_index]:\n",
        "                min_index = right\n",
        "            if min_index != index:\n",
        "                self.__swap(index, min_index)\n",
        "                index = min_index\n",
        "            else:\n",
        "                break\n",
        "\n",
        "    # Public method to get heap array (without breaking privacy)\n",
        "    def get_heap_array(self):\n",
        "        return self.__heap[:self.__size]\n",
        "\n",
        "\n",
        "class MaxHeap:\n",
        "    def __init__(self, capacity):\n",
        "        self.__heap = [0] * capacity  # private array\n",
        "        self.__size = 0               # private size variable\n",
        "\n",
        "    def __parent(self, index): return (index - 1) // 2\n",
        "    def __left_child(self, index): return 2 * index + 1\n",
        "    def __right_child(self, index): return 2 * index + 2\n",
        "\n",
        "    def __swap(self, i, j):\n",
        "        self.__heap[i], self.__heap[j] = self.__heap[j], self.__heap[i]\n",
        "\n",
        "    def insert(self, value):\n",
        "        self.__heap[self.__size] = value\n",
        "        self.__size += 1\n",
        "        self.swim(self.__size - 1)\n",
        "\n",
        "    def swim(self, index):\n",
        "        while index > 0:\n",
        "            parent = self.__parent(index)\n",
        "            if self.__heap[index] > self.__heap[parent]:\n",
        "                self.__swap(index, parent)\n",
        "                index = parent\n",
        "            else:\n",
        "                break\n",
        "\n",
        "    def extractMax(self):\n",
        "        if self.__size == 0:\n",
        "            return None\n",
        "        max_val = self.__heap[0]\n",
        "        self.__size -= 1\n",
        "        self.__heap[0] = self.__heap[self.__size]\n",
        "        self.sink(0)\n",
        "        return max_val\n",
        "\n",
        "    def sink(self, index):\n",
        "        while True:\n",
        "            max_index = index\n",
        "            left, right = self.__left_child(index), self.__right_child(index)\n",
        "            if left < self.__size and self.__heap[left] > self.__heap[max_index]:\n",
        "                max_index = left\n",
        "            if right < self.__size and self.__heap[right] > self.__heap[max_index]:\n",
        "                max_index = right\n",
        "            if max_index != index:\n",
        "                self.__swap(index, max_index)\n",
        "                index = max_index\n",
        "            else:\n",
        "                break"
      ],
      "metadata": {
        "id": "JoLii5DQAuQ4"
      },
      "execution_count": null,
      "outputs": []
    },
    {
      "cell_type": "code",
      "source": [
        "def heap2arr(tasks, m):\n",
        "  if tasks is None:\n",
        "    return []\n",
        "  elif m <= 0 or m > len(tasks):\n",
        "    return []\n",
        "\n",
        "  heap = MinHeap(m)\n",
        "  for i in range(m):\n",
        "      heap.insert(0)\n",
        "\n",
        "  for j in tasks:\n",
        "      currentMin = heap.extractMin()\n",
        "      heap.insert(currentMin + j)\n",
        "\n",
        "  return sorted(heap.get_heap_array())\n",
        "\n",
        "tasks = [2, 4, 7, 1, 6]\n",
        "m = 4\n",
        "print(f\"The array representation of the heap is {heap2arr(tasks, m)}\")"
      ],
      "metadata": {
        "colab": {
          "base_uri": "https://localhost:8080/"
        },
        "id": "syctIkOEErLU",
        "outputId": "21b145b3-14f5-4bb0-c026-4a4709d747f2"
      },
      "execution_count": null,
      "outputs": [
        {
          "output_type": "stream",
          "name": "stdout",
          "text": [
            "The array representation of the heap is [2, 4, 7, 7]\n"
          ]
        }
      ]
    },
    {
      "cell_type": "code",
      "source": [
        "def arrDescOrder(nums, k):\n",
        "  if not nums or k <= 0 or k > len(nums):\n",
        "    return []\n",
        "\n",
        "  heap = MaxHeap(len(nums))\n",
        "  for i in nums:\n",
        "      heap.insert(i)\n",
        "\n",
        "  largest = [0] * k\n",
        "  for i in range(k):\n",
        "      largest[i] = heap.extractMax()\n",
        "  return largest\n",
        "\n",
        "nums = [4, 10, 2, 8, 6, 7]\n",
        "k = 3\n",
        "print(f\"Largest elements in descending order {arrDescOrder(nums, k)}\")"
      ],
      "metadata": {
        "colab": {
          "base_uri": "https://localhost:8080/"
        },
        "id": "uR4UNQ6rAwtI",
        "outputId": "ad5dfb23-5723-4502-8b9c-921b2a412aa1"
      },
      "execution_count": null,
      "outputs": [
        {
          "output_type": "stream",
          "name": "stdout",
          "text": [
            "Largest elements in descending order [10, 8, 7]\n"
          ]
        }
      ]
    }
  ]
}